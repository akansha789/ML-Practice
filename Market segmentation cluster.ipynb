{
 "cells": [
  {
   "cell_type": "markdown",
   "id": "44284cab",
   "metadata": {},
   "source": [
    "# market segmentation in clustering"
   ]
  },
  {
   "cell_type": "code",
   "execution_count": 40,
   "id": "e840e48f",
   "metadata": {},
   "outputs": [],
   "source": [
    "import numpy as np\n",
    "import pandas as pd\n",
    "import matplotlib.pyplot as plt\n",
    "import seaborn\n",
    "seaborn.set()\n",
    "\n",
    "from sklearn.cluster import KMeans"
   ]
  },
  {
   "cell_type": "markdown",
   "id": "0b8b1c7f",
   "metadata": {},
   "source": [
    "# load the data"
   ]
  },
  {
   "cell_type": "code",
   "execution_count": 41,
   "id": "52a612ed",
   "metadata": {},
   "outputs": [
    {
     "data": {
      "text/html": [
       "<div>\n",
       "<style scoped>\n",
       "    .dataframe tbody tr th:only-of-type {\n",
       "        vertical-align: middle;\n",
       "    }\n",
       "\n",
       "    .dataframe tbody tr th {\n",
       "        vertical-align: top;\n",
       "    }\n",
       "\n",
       "    .dataframe thead th {\n",
       "        text-align: right;\n",
       "    }\n",
       "</style>\n",
       "<table border=\"1\" class=\"dataframe\">\n",
       "  <thead>\n",
       "    <tr style=\"text-align: right;\">\n",
       "      <th></th>\n",
       "      <th>Satisfaction</th>\n",
       "      <th>Loyalty</th>\n",
       "    </tr>\n",
       "  </thead>\n",
       "  <tbody>\n",
       "    <tr>\n",
       "      <th>0</th>\n",
       "      <td>1</td>\n",
       "      <td>-1.4</td>\n",
       "    </tr>\n",
       "    <tr>\n",
       "      <th>1</th>\n",
       "      <td>3</td>\n",
       "      <td>-1.4</td>\n",
       "    </tr>\n",
       "    <tr>\n",
       "      <th>2</th>\n",
       "      <td>5</td>\n",
       "      <td>-1.4</td>\n",
       "    </tr>\n",
       "    <tr>\n",
       "      <th>3</th>\n",
       "      <td>3</td>\n",
       "      <td>-1.6</td>\n",
       "    </tr>\n",
       "    <tr>\n",
       "      <th>4</th>\n",
       "      <td>4</td>\n",
       "      <td>-1.6</td>\n",
       "    </tr>\n",
       "  </tbody>\n",
       "</table>\n",
       "</div>"
      ],
      "text/plain": [
       "   Satisfaction  Loyalty\n",
       "0             1     -1.4\n",
       "1             3     -1.4\n",
       "2             5     -1.4\n",
       "3             3     -1.6\n",
       "4             4     -1.6"
      ]
     },
     "execution_count": 41,
     "metadata": {},
     "output_type": "execute_result"
    }
   ],
   "source": [
    "data=pd.read_csv(r'C:\\Users\\user\\Desktop\\market segmentation clustering.csv')\n",
    "data.head()"
   ]
  },
  {
   "cell_type": "code",
   "execution_count": 42,
   "id": "e6aff5c4",
   "metadata": {},
   "outputs": [
    {
     "data": {
      "image/png": "[encoded data removed]",
      "text/plain": [
       "<Figure size 432x288 with 1 Axes>"
      ]
     },
     "metadata": {},
     "output_type": "display_data"
    }
   ],
   "source": [
    "plt.scatter(data['Satisfaction'],data['Loyalty'])\n",
    "plt.ylabel('Loyalty')\n",
    "plt.xlabel('satisfaction')\n",
    "plt.show()"
   ]
  },
  {
   "cell_type": "code",
   "execution_count": 43,
   "id": "a880347c",
   "metadata": {},
   "outputs": [],
   "source": [
    "data_clustered=data.copy()\n"
   ]
  },
  {
   "cell_type": "code",
   "execution_count": 53,
   "id": "12b6cb3e",
   "metadata": {},
   "outputs": [
    {
     "data": {
      "text/plain": [
       "KMeans(n_clusters=2)"
      ]
     },
     "execution_count": 53,
     "metadata": {},
     "output_type": "execute_result"
    }
   ],
   "source": [
    "kmeans=KMeans(2)\n",
    "kmeans.fit(data_clustered)\n"
   ]
  },
  {
   "cell_type": "code",
   "execution_count": 66,
   "id": "e26c64ac",
   "metadata": {},
   "outputs": [
    {
     "data": {
      "text/html": [
       "<div>\n",
       "<style scoped>\n",
       "    .dataframe tbody tr th:only-of-type {\n",
       "        vertical-align: middle;\n",
       "    }\n",
       "\n",
       "    .dataframe tbody tr th {\n",
       "        vertical-align: top;\n",
       "    }\n",
       "\n",
       "    .dataframe thead th {\n",
       "        text-align: right;\n",
       "    }\n",
       "</style>\n",
       "<table border=\"1\" class=\"dataframe\">\n",
       "  <thead>\n",
       "    <tr style=\"text-align: right;\">\n",
       "      <th></th>\n",
       "      <th>Satisfaction</th>\n",
       "      <th>Loyalty</th>\n",
       "      <th>Cluster pred</th>\n",
       "    </tr>\n",
       "  </thead>\n",
       "  <tbody>\n",
       "    <tr>\n",
       "      <th>0</th>\n",
       "      <td>1</td>\n",
       "      <td>-1.4</td>\n",
       "      <td>0</td>\n",
       "    </tr>\n",
       "    <tr>\n",
       "      <th>1</th>\n",
       "      <td>3</td>\n",
       "      <td>-1.4</td>\n",
       "      <td>0</td>\n",
       "    </tr>\n",
       "    <tr>\n",
       "      <th>2</th>\n",
       "      <td>5</td>\n",
       "      <td>-1.4</td>\n",
       "      <td>0</td>\n",
       "    </tr>\n",
       "    <tr>\n",
       "      <th>3</th>\n",
       "      <td>3</td>\n",
       "      <td>-1.6</td>\n",
       "      <td>0</td>\n",
       "    </tr>\n",
       "    <tr>\n",
       "      <th>4</th>\n",
       "      <td>4</td>\n",
       "      <td>-1.6</td>\n",
       "      <td>0</td>\n",
       "    </tr>\n",
       "  </tbody>\n",
       "</table>\n",
       "</div>"
      ],
      "text/plain": [
       "   Satisfaction  Loyalty  Cluster pred\n",
       "0             1     -1.4             0\n",
       "1             3     -1.4             0\n",
       "2             5     -1.4             0\n",
       "3             3     -1.6             0\n",
       "4             4     -1.6             0"
      ]
     },
     "execution_count": 66,
     "metadata": {},
     "output_type": "execute_result"
    }
   ],
   "source": [
    "data_clustered['Cluster pred']=kmeans.fit_predict(data_clustered)\n",
    "data_clustered.head()"
   ]
  },
  {
   "cell_type": "code",
   "execution_count": 67,
   "id": "3c51271e",
   "metadata": {},
   "outputs": [
    {
     "data": {
      "image/png": "[encoded data removed]",
      "text/plain": [
       "<Figure size 432x288 with 1 Axes>"
      ]
     },
     "metadata": {},
     "output_type": "display_data"
    }
   ],
   "source": [
    "plt.scatter(data['Satisfaction'],data['Loyalty'],c=data_clustered['Cluster pred'],cmap='rainbow')\n",
    "plt.ylabel('Loyalty')\n",
    "plt.xlabel('satisfaction')\n",
    "plt.show()"
   ]
  },
  {
   "cell_type": "markdown",
   "id": "3ecc090f",
   "metadata": {},
   "source": [
    "# standardising the variable"
   ]
  },
  {
   "cell_type": "code",
   "execution_count": 49,
   "id": "c774e3da",
   "metadata": {},
   "outputs": [
    {
     "data": {
      "text/plain": [
       "array([[-2.10088636, -1.3832446 , -0.59222421],\n",
       "       [-1.34871717, -1.3832446 , -0.59222421],\n",
       "       [-0.59654798, -1.3832446 ,  1.46871605],\n",
       "       [-1.34871717, -1.53236762, -0.59222421],\n",
       "       [-0.97263258, -1.53236762, -0.59222421],\n",
       "       [-1.34871717, -1.08499855, -0.59222421],\n",
       "       [-0.59654798, -1.08499855,  1.46871605],\n",
       "       [-1.72480177,  0.04833643, -0.59222421],\n",
       "       [-0.97263258,  0.40623168,  1.46871605],\n",
       "       [-0.59654798,  0.02596797,  1.46871605],\n",
       "       [-0.59654798,  0.07070488,  1.46871605],\n",
       "       [-0.22046338,  0.40623168,  1.46871605],\n",
       "       [-0.22046338, -0.74947175,  0.78173596],\n",
       "       [ 0.15562121, -0.74947175,  0.78173596],\n",
       "       [ 0.15562121, -0.7420156 ,  0.78173596],\n",
       "       [ 0.15562121, -0.7420156 ,  0.78173596],\n",
       "       [ 0.53170581,  1.37553134,  0.09475587],\n",
       "       [ 1.283875  ,  0.77903924, -1.2792043 ],\n",
       "       [ 0.53170581,  1.1518468 ,  0.09475587],\n",
       "       [ 0.53170581,  1.11456604,  0.09475587],\n",
       "       [ 0.53170581,  0.96544302,  0.09475587],\n",
       "       [ 1.283875  ,  1.22640831, -1.2792043 ],\n",
       "       [ 0.9077904 ,  1.40535594,  0.09475587],\n",
       "       [ 0.9077904 ,  1.06982914,  0.09475587],\n",
       "       [ 1.283875  ,  0.36895093, -1.2792043 ],\n",
       "       [ 1.283875  ,  1.52465436, -1.2792043 ],\n",
       "       [ 1.283875  ,  0.65974082, -1.2792043 ],\n",
       "       [ 0.9077904 , -0.33938343, -1.2792043 ],\n",
       "       [ 0.9077904 ,  0.10798564, -1.2792043 ]])"
      ]
     },
     "execution_count": 49,
     "metadata": {},
     "output_type": "execute_result"
    }
   ],
   "source": [
    "from sklearn import preprocessing\n",
    "x_scaled=preprocessing.scale(data_clustered)\n",
    "x_scaled\n"
   ]
  },
  {
   "cell_type": "markdown",
   "id": "e2a9efe3",
   "metadata": {},
   "source": [
    "# how many cluster we should have?? take advantage of elbow method"
   ]
  },
  {
   "cell_type": "code",
   "execution_count": 50,
   "id": "c2142c6c",
   "metadata": {},
   "outputs": [
    {
     "name": "stderr",
     "output_type": "stream",
     "text": [
      "F:\\Users\\user\\anaconda3\\lib\\site-packages\\sklearn\\cluster\\_kmeans.py:881: UserWarning: KMeans is known to have a memory leak on Windows with MKL, when there are less chunks than available threads. You can avoid it by setting the environment variable OMP_NUM_THREADS=1.\n",
      "  warnings.warn(\n"
     ]
    },
    {
     "data": {
      "text/plain": [
       "[87.0,\n",
       " 38.369412251151104,\n",
       " 19.73778473457155,\n",
       " 11.746160831221852,\n",
       " 7.684509374266303,\n",
       " 5.856936931340673,\n",
       " 4.0736489433940575,\n",
       " 2.6662480042338403,\n",
       " 1.9492979151685548]"
      ]
     },
     "execution_count": 50,
     "metadata": {},
     "output_type": "execute_result"
    }
   ],
   "source": [
    "wcss=[]\n",
    "\n",
    "for i in range(1,10):\n",
    "    kmeans=KMeans(i)\n",
    "    kmeans.fit(x_scaled)\n",
    "    wcss.append(kmeans.inertia_)\n",
    "    \n",
    "wcss    "
   ]
  },
  {
   "cell_type": "code",
   "execution_count": 51,
   "id": "684af775",
   "metadata": {},
   "outputs": [
    {
     "data": {
      "image/png": "[encoded data removed]",
      "text/plain": [
       "<Figure size 432x288 with 1 Axes>"
      ]
     },
     "metadata": {},
     "output_type": "display_data"
    }
   ],
   "source": [
    "plt.plot(range(1,10),wcss,c='blue')\n",
    "plt.xlabel('Number of Clusters')\n",
    "plt.ylabel('WCSS')\n",
    "plt.show()"
   ]
  },
  {
   "cell_type": "markdown",
   "id": "757d6562",
   "metadata": {},
   "source": [
    "# new cluster data"
   ]
  },
  {
   "cell_type": "code",
   "execution_count": 63,
   "id": "b493bec4",
   "metadata": {},
   "outputs": [
    {
     "data": {
      "text/plain": [
       "KMeans(n_clusters=6)"
      ]
     },
     "execution_count": 63,
     "metadata": {},
     "output_type": "execute_result"
    }
   ],
   "source": [
    "kmeans_new=KMeans(6)\n",
    "kmeans_new.fit(x_scaled)"
   ]
  },
  {
   "cell_type": "code",
   "execution_count": 64,
   "id": "ee2af2d3",
   "metadata": {},
   "outputs": [],
   "source": [
    "new_data_clustered=data_clustered.copy()\n",
    "new_data_clustered['Cluster pred']=kmeans_new.fit_predict(x_scaled)"
   ]
  },
  {
   "cell_type": "code",
   "execution_count": 65,
   "id": "fcd374e3",
   "metadata": {},
   "outputs": [
    {
     "data": {
      "image/png": "[encoded data removed]",
      "text/plain": [
       "<Figure size 432x288 with 1 Axes>"
      ]
     },
     "metadata": {},
     "output_type": "display_data"
    }
   ],
   "source": [
    "plt.scatter(new_data_clustered['Satisfaction'],new_data_clustered['Loyalty'],c=new_data_clustered['Cluster pred'],cmap='rainbow')\n",
    "plt.ylabel('Loyalty')\n",
    "plt.xlabel('satisfaction')\n",
    "plt.show()"
   ]
  }
 ],
 "metadata": {
  "kernelspec": {
   "display_name": "Python 3 (ipykernel)",
   "language": "python",
   "name": "python3"
  },
  "language_info": {
   "codemirror_mode": {
    "name": "ipython",
    "version": 3
   },
   "file_extension": ".py",
   "mimetype": "text/x-python",
   "name": "python",
   "nbconvert_exporter": "python",
   "pygments_lexer": "ipython3",
   "version": "3.9.7"
  }
 },
 "nbformat": 4,
 "nbformat_minor": 5
}
